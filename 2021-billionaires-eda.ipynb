{
 "cells": [
  {
   "cell_type": "code",
   "execution_count": 10,
   "outputs": [
    {
     "name": "stdout",
     "output_type": "stream",
     "text": [
      "Requirement already satisfied: matplotlib in /Users/owner/opt/anaconda3/envs/fbnames/lib/python3.10/site-packages (3.9.2)\r\n",
      "Requirement already satisfied: contourpy>=1.0.1 in /Users/owner/opt/anaconda3/envs/fbnames/lib/python3.10/site-packages (from matplotlib) (1.3.0)\r\n",
      "Requirement already satisfied: cycler>=0.10 in /Users/owner/opt/anaconda3/envs/fbnames/lib/python3.10/site-packages (from matplotlib) (0.11.0)\r\n",
      "Requirement already satisfied: fonttools>=4.22.0 in /Users/owner/opt/anaconda3/envs/fbnames/lib/python3.10/site-packages (from matplotlib) (4.51.0)\r\n",
      "Requirement already satisfied: kiwisolver>=1.3.1 in /Users/owner/opt/anaconda3/envs/fbnames/lib/python3.10/site-packages (from matplotlib) (1.4.4)\r\n",
      "Requirement already satisfied: numpy>=1.23 in /Users/owner/opt/anaconda3/envs/fbnames/lib/python3.10/site-packages (from matplotlib) (2.1.2)\r\n",
      "Requirement already satisfied: packaging>=20.0 in /Users/owner/opt/anaconda3/envs/fbnames/lib/python3.10/site-packages (from matplotlib) (24.1)\r\n",
      "Requirement already satisfied: pillow>=8 in /Users/owner/opt/anaconda3/envs/fbnames/lib/python3.10/site-packages (from matplotlib) (9.2.0)\r\n",
      "Requirement already satisfied: pyparsing>=2.3.1 in /Users/owner/opt/anaconda3/envs/fbnames/lib/python3.10/site-packages (from matplotlib) (3.1.2)\r\n",
      "Requirement already satisfied: python-dateutil>=2.7 in /Users/owner/opt/anaconda3/envs/fbnames/lib/python3.10/site-packages (from matplotlib) (2.9.0.post0)\r\n",
      "Requirement already satisfied: six>=1.5 in /Users/owner/opt/anaconda3/envs/fbnames/lib/python3.10/site-packages (from python-dateutil>=2.7->matplotlib) (1.16.0)\r\n",
      "Requirement already satisfied: numpy in /Users/owner/opt/anaconda3/envs/fbnames/lib/python3.10/site-packages (2.1.2)\r\n",
      "Requirement already satisfied: seaborn in /Users/owner/opt/anaconda3/envs/fbnames/lib/python3.10/site-packages (0.13.2)\r\n",
      "Requirement already satisfied: numpy!=1.24.0,>=1.20 in /Users/owner/opt/anaconda3/envs/fbnames/lib/python3.10/site-packages (from seaborn) (2.1.2)\r\n",
      "Requirement already satisfied: pandas>=1.2 in /Users/owner/opt/anaconda3/envs/fbnames/lib/python3.10/site-packages (from seaborn) (2.2.3)\r\n",
      "Requirement already satisfied: matplotlib!=3.6.1,>=3.4 in /Users/owner/opt/anaconda3/envs/fbnames/lib/python3.10/site-packages (from seaborn) (3.9.2)\r\n",
      "Requirement already satisfied: contourpy>=1.0.1 in /Users/owner/opt/anaconda3/envs/fbnames/lib/python3.10/site-packages (from matplotlib!=3.6.1,>=3.4->seaborn) (1.3.0)\r\n",
      "Requirement already satisfied: cycler>=0.10 in /Users/owner/opt/anaconda3/envs/fbnames/lib/python3.10/site-packages (from matplotlib!=3.6.1,>=3.4->seaborn) (0.11.0)\r\n",
      "Requirement already satisfied: fonttools>=4.22.0 in /Users/owner/opt/anaconda3/envs/fbnames/lib/python3.10/site-packages (from matplotlib!=3.6.1,>=3.4->seaborn) (4.51.0)\r\n",
      "Requirement already satisfied: kiwisolver>=1.3.1 in /Users/owner/opt/anaconda3/envs/fbnames/lib/python3.10/site-packages (from matplotlib!=3.6.1,>=3.4->seaborn) (1.4.4)\r\n",
      "Requirement already satisfied: packaging>=20.0 in /Users/owner/opt/anaconda3/envs/fbnames/lib/python3.10/site-packages (from matplotlib!=3.6.1,>=3.4->seaborn) (24.1)\r\n",
      "Requirement already satisfied: pillow>=8 in /Users/owner/opt/anaconda3/envs/fbnames/lib/python3.10/site-packages (from matplotlib!=3.6.1,>=3.4->seaborn) (9.2.0)\r\n",
      "Requirement already satisfied: pyparsing>=2.3.1 in /Users/owner/opt/anaconda3/envs/fbnames/lib/python3.10/site-packages (from matplotlib!=3.6.1,>=3.4->seaborn) (3.1.2)\r\n",
      "Requirement already satisfied: python-dateutil>=2.7 in /Users/owner/opt/anaconda3/envs/fbnames/lib/python3.10/site-packages (from matplotlib!=3.6.1,>=3.4->seaborn) (2.9.0.post0)\r\n",
      "Requirement already satisfied: pytz>=2020.1 in /Users/owner/opt/anaconda3/envs/fbnames/lib/python3.10/site-packages (from pandas>=1.2->seaborn) (2024.1)\r\n",
      "Requirement already satisfied: tzdata>=2022.7 in /Users/owner/opt/anaconda3/envs/fbnames/lib/python3.10/site-packages (from pandas>=1.2->seaborn) (2024.2)\r\n",
      "Requirement already satisfied: six>=1.5 in /Users/owner/opt/anaconda3/envs/fbnames/lib/python3.10/site-packages (from python-dateutil>=2.7->matplotlib!=3.6.1,>=3.4->seaborn) (1.16.0)\r\n",
      "Requirement already satisfied: squarify in /Users/owner/opt/anaconda3/envs/fbnames/lib/python3.10/site-packages (0.4.3)\r\n",
      "Requirement already satisfied: pandas in /Users/owner/opt/anaconda3/envs/fbnames/lib/python3.10/site-packages (2.2.3)\r\n",
      "Requirement already satisfied: numpy>=1.22.4 in /Users/owner/opt/anaconda3/envs/fbnames/lib/python3.10/site-packages (from pandas) (2.1.2)\r\n",
      "Requirement already satisfied: python-dateutil>=2.8.2 in /Users/owner/opt/anaconda3/envs/fbnames/lib/python3.10/site-packages (from pandas) (2.9.0.post0)\r\n",
      "Requirement already satisfied: pytz>=2020.1 in /Users/owner/opt/anaconda3/envs/fbnames/lib/python3.10/site-packages (from pandas) (2024.1)\r\n",
      "Requirement already satisfied: tzdata>=2022.7 in /Users/owner/opt/anaconda3/envs/fbnames/lib/python3.10/site-packages (from pandas) (2024.2)\r\n",
      "Requirement already satisfied: six>=1.5 in /Users/owner/opt/anaconda3/envs/fbnames/lib/python3.10/site-packages (from python-dateutil>=2.8.2->pandas) (1.16.0)\r\n"
     ]
    }
   ],
   "source": [
    "!pip3 install matplotlib\n",
    "!pip3 install numpy\n",
    "!pip3 install seaborn\n",
    "!pip3 install squarify\n",
    "!pip3 install pandas"
   ],
   "metadata": {
    "collapsed": false
   }
  },
  {
   "cell_type": "code",
   "execution_count": 11,
   "outputs": [
    {
     "name": "stdout",
     "output_type": "stream",
     "text": [
      "data/billionaires.csv\n",
      "data/billionaires.xlsx\n"
     ]
    }
   ],
   "source": [
    "# This Python 3 environment comes with many helpful analytics libraries installed\n",
    "# It is defined by the kaggle/python Docker image: https://github.com/kaggle/docker-python\n",
    "# For example, here's several helpful packages to load\n",
    "\n",
    "import numpy as np # linear algebra\n",
    "import pandas as pd # data processing, CSV file I/O (e.g. pd.read_csv)\n",
    "\n",
    "# Input data files are available in the read-only \"../input/\" directory\n",
    "# For example, running this (by clicking run or pressing Shift+Enter) will list all files under the input directory\n",
    "\n",
    "import os\n",
    "for dirname, _, filenames in os.walk('data/'):\n",
    "    for filename in filenames:\n",
    "        print(os.path.join(dirname, filename))\n",
    "\n",
    "# You can write up to 20GB to the current directory (/kaggle/working/) that gets preserved as output when you create a version using \"Save & Run All\"\n",
    "# You can also write temporary files to /kaggle/temp/, but they won't be saved outside of the current session"
   ],
   "metadata": {
    "collapsed": false
   }
  },
  {
   "cell_type": "code",
   "execution_count": 12,
   "id": "f503bb34",
   "metadata": {
    "execution": {
     "iopub.execute_input": "2021-11-05T18:36:14.864130Z",
     "iopub.status.busy": "2021-11-05T18:36:14.863483Z",
     "iopub.status.idle": "2021-11-05T18:36:15.723922Z",
     "shell.execute_reply": "2021-11-05T18:36:15.723382Z",
     "shell.execute_reply.started": "2021-11-05T18:34:51.784840Z"
    },
    "papermill": {
     "duration": 0.878007,
     "end_time": "2021-11-05T18:36:15.724064",
     "exception": false,
     "start_time": "2021-11-05T18:36:14.846057",
     "status": "completed"
    },
    "tags": []
   },
   "outputs": [],
   "source": [
    "import pandas as pd\n",
    "pd.plotting.register_matplotlib_converters()\n",
    "import matplotlib.pyplot as plt\n",
    "import matplotlib\n",
    "%matplotlib inline\n",
    "import seaborn as sns\n",
    "import squarify\n",
    "import warnings\n",
    "import re\n",
    "warnings.filterwarnings(\"ignore\")"
   ]
  },
  {
   "cell_type": "code",
   "execution_count": 13,
   "id": "df623308",
   "metadata": {
    "execution": {
     "iopub.execute_input": "2021-11-05T18:36:15.761047Z",
     "iopub.status.busy": "2021-11-05T18:36:15.760328Z",
     "iopub.status.idle": "2021-11-05T18:36:15.799070Z",
     "shell.execute_reply": "2021-11-05T18:36:15.798404Z",
     "shell.execute_reply.started": "2021-11-05T18:34:52.892353Z"
    },
    "papermill": {
     "duration": 0.057971,
     "end_time": "2021-11-05T18:36:15.799227",
     "exception": false,
     "start_time": "2021-11-05T18:36:15.741256",
     "status": "completed"
    },
    "tags": []
   },
   "outputs": [
    {
     "data": {
      "text/plain": "               name  rank  year  company.founded        company.name  \\\n0        Bill Gates     1  2014             1975           Microsoft   \n1  Carlos Slim Helu     2  2014             1990              Telmex   \n2    Amancio Ortega     3  2014             1975                Zara   \n3    Warren Buffett     4  2014             1839  Berkshire Hathaway   \n4     Larry Ellison     5  2014             1977              Oracle   \n\n  company.relationship   company.sector   company.type  demographics.age  \\\n0              founder         Software            new                58   \n1              founder   Communications  privatization                74   \n2              founder          Fashion            new                77   \n3              founder          Finance        aquired                83   \n4              founder         software            new                69   \n\n  demographics.gender  ... location.gdp location.region  \\\n0                male  ...          0.0   North America   \n1                male  ...          0.0   Latin America   \n2                male  ...          0.0          Europe   \n3                male  ...          0.0   North America   \n4                male  ...          0.0   North America   \n\n                wealth.type wealth.worth in billions wealth.how.category  \\\n0       founder non-finance                     76.0         New Sectors   \n1  privatized and resources                     72.0  Non-Traded Sectors   \n2       founder non-finance                     64.0  Non-Traded Sectors   \n3       founder non-finance                     58.2      Traded Sectors   \n4       founder non-finance                     48.0         New Sectors   \n\n   wealth.how.from emerging  wealth.how.industry  wealth.how.inherited  \\\n0                      True  Technology-Computer         not inherited   \n1                      True                Media         not inherited   \n2                      True   Retail, Restaurant         not inherited   \n3                      True             Consumer         not inherited   \n4                      True  Technology-Computer         not inherited   \n\n  wealth.how.was founder wealth.how.was political  \n0                   True                     True  \n1                   True                     True  \n2                   True                     True  \n3                   True                     True  \n4                   True                     True  \n\n[5 rows x 22 columns]",
      "text/html": "<div>\n<style scoped>\n    .dataframe tbody tr th:only-of-type {\n        vertical-align: middle;\n    }\n\n    .dataframe tbody tr th {\n        vertical-align: top;\n    }\n\n    .dataframe thead th {\n        text-align: right;\n    }\n</style>\n<table border=\"1\" class=\"dataframe\">\n  <thead>\n    <tr style=\"text-align: right;\">\n      <th></th>\n      <th>name</th>\n      <th>rank</th>\n      <th>year</th>\n      <th>company.founded</th>\n      <th>company.name</th>\n      <th>company.relationship</th>\n      <th>company.sector</th>\n      <th>company.type</th>\n      <th>demographics.age</th>\n      <th>demographics.gender</th>\n      <th>...</th>\n      <th>location.gdp</th>\n      <th>location.region</th>\n      <th>wealth.type</th>\n      <th>wealth.worth in billions</th>\n      <th>wealth.how.category</th>\n      <th>wealth.how.from emerging</th>\n      <th>wealth.how.industry</th>\n      <th>wealth.how.inherited</th>\n      <th>wealth.how.was founder</th>\n      <th>wealth.how.was political</th>\n    </tr>\n  </thead>\n  <tbody>\n    <tr>\n      <th>0</th>\n      <td>Bill Gates</td>\n      <td>1</td>\n      <td>2014</td>\n      <td>1975</td>\n      <td>Microsoft</td>\n      <td>founder</td>\n      <td>Software</td>\n      <td>new</td>\n      <td>58</td>\n      <td>male</td>\n      <td>...</td>\n      <td>0.0</td>\n      <td>North America</td>\n      <td>founder non-finance</td>\n      <td>76.0</td>\n      <td>New Sectors</td>\n      <td>True</td>\n      <td>Technology-Computer</td>\n      <td>not inherited</td>\n      <td>True</td>\n      <td>True</td>\n    </tr>\n    <tr>\n      <th>1</th>\n      <td>Carlos Slim Helu</td>\n      <td>2</td>\n      <td>2014</td>\n      <td>1990</td>\n      <td>Telmex</td>\n      <td>founder</td>\n      <td>Communications</td>\n      <td>privatization</td>\n      <td>74</td>\n      <td>male</td>\n      <td>...</td>\n      <td>0.0</td>\n      <td>Latin America</td>\n      <td>privatized and resources</td>\n      <td>72.0</td>\n      <td>Non-Traded Sectors</td>\n      <td>True</td>\n      <td>Media</td>\n      <td>not inherited</td>\n      <td>True</td>\n      <td>True</td>\n    </tr>\n    <tr>\n      <th>2</th>\n      <td>Amancio Ortega</td>\n      <td>3</td>\n      <td>2014</td>\n      <td>1975</td>\n      <td>Zara</td>\n      <td>founder</td>\n      <td>Fashion</td>\n      <td>new</td>\n      <td>77</td>\n      <td>male</td>\n      <td>...</td>\n      <td>0.0</td>\n      <td>Europe</td>\n      <td>founder non-finance</td>\n      <td>64.0</td>\n      <td>Non-Traded Sectors</td>\n      <td>True</td>\n      <td>Retail, Restaurant</td>\n      <td>not inherited</td>\n      <td>True</td>\n      <td>True</td>\n    </tr>\n    <tr>\n      <th>3</th>\n      <td>Warren Buffett</td>\n      <td>4</td>\n      <td>2014</td>\n      <td>1839</td>\n      <td>Berkshire Hathaway</td>\n      <td>founder</td>\n      <td>Finance</td>\n      <td>aquired</td>\n      <td>83</td>\n      <td>male</td>\n      <td>...</td>\n      <td>0.0</td>\n      <td>North America</td>\n      <td>founder non-finance</td>\n      <td>58.2</td>\n      <td>Traded Sectors</td>\n      <td>True</td>\n      <td>Consumer</td>\n      <td>not inherited</td>\n      <td>True</td>\n      <td>True</td>\n    </tr>\n    <tr>\n      <th>4</th>\n      <td>Larry Ellison</td>\n      <td>5</td>\n      <td>2014</td>\n      <td>1977</td>\n      <td>Oracle</td>\n      <td>founder</td>\n      <td>software</td>\n      <td>new</td>\n      <td>69</td>\n      <td>male</td>\n      <td>...</td>\n      <td>0.0</td>\n      <td>North America</td>\n      <td>founder non-finance</td>\n      <td>48.0</td>\n      <td>New Sectors</td>\n      <td>True</td>\n      <td>Technology-Computer</td>\n      <td>not inherited</td>\n      <td>True</td>\n      <td>True</td>\n    </tr>\n  </tbody>\n</table>\n<p>5 rows × 22 columns</p>\n</div>"
     },
     "execution_count": 13,
     "metadata": {},
     "output_type": "execute_result"
    }
   ],
   "source": [
    "data = pd.read_csv(\"data/billionaires.csv\")\n",
    "data.head()"
   ]
  },
  {
   "cell_type": "code",
   "execution_count": 14,
   "id": "11c52cd3",
   "metadata": {
    "execution": {
     "iopub.execute_input": "2021-11-05T18:36:15.840708Z",
     "iopub.status.busy": "2021-11-05T18:36:15.839945Z",
     "iopub.status.idle": "2021-11-05T18:36:15.855874Z",
     "shell.execute_reply": "2021-11-05T18:36:15.856350Z",
     "shell.execute_reply.started": "2021-11-05T18:34:52.944307Z"
    },
    "papermill": {
     "duration": 0.041632,
     "end_time": "2021-11-05T18:36:15.856534",
     "exception": false,
     "start_time": "2021-11-05T18:36:15.814902",
     "status": "completed"
    },
    "tags": []
   },
   "outputs": [
    {
     "data": {
      "text/plain": "              rank         year  company.founded  demographics.age  \\\ncount  2614.000000  2614.000000      2614.000000       2614.000000   \nmean    599.672533  2008.411630      1924.711936         53.341239   \nstd     467.885695     7.483598       243.776546         25.333320   \nmin       1.000000  1996.000000         0.000000        -42.000000   \n25%     215.000000  2001.000000      1936.000000         47.000000   \n50%     430.000000  2014.000000      1963.000000         59.000000   \n75%     988.000000  2014.000000      1985.000000         70.000000   \nmax    1565.000000  2014.000000      2012.000000         98.000000   \n\n       location.gdp  wealth.worth in billions  \ncount  2.614000e+03               2614.000000  \nmean   1.769103e+12                  3.531943  \nstd    3.547083e+12                  5.088813  \nmin    0.000000e+00                  1.000000  \n25%    0.000000e+00                  1.400000  \n50%    0.000000e+00                  2.000000  \n75%    7.250000e+11                  3.500000  \nmax    1.060000e+13                 76.000000  ",
      "text/html": "<div>\n<style scoped>\n    .dataframe tbody tr th:only-of-type {\n        vertical-align: middle;\n    }\n\n    .dataframe tbody tr th {\n        vertical-align: top;\n    }\n\n    .dataframe thead th {\n        text-align: right;\n    }\n</style>\n<table border=\"1\" class=\"dataframe\">\n  <thead>\n    <tr style=\"text-align: right;\">\n      <th></th>\n      <th>rank</th>\n      <th>year</th>\n      <th>company.founded</th>\n      <th>demographics.age</th>\n      <th>location.gdp</th>\n      <th>wealth.worth in billions</th>\n    </tr>\n  </thead>\n  <tbody>\n    <tr>\n      <th>count</th>\n      <td>2614.000000</td>\n      <td>2614.000000</td>\n      <td>2614.000000</td>\n      <td>2614.000000</td>\n      <td>2.614000e+03</td>\n      <td>2614.000000</td>\n    </tr>\n    <tr>\n      <th>mean</th>\n      <td>599.672533</td>\n      <td>2008.411630</td>\n      <td>1924.711936</td>\n      <td>53.341239</td>\n      <td>1.769103e+12</td>\n      <td>3.531943</td>\n    </tr>\n    <tr>\n      <th>std</th>\n      <td>467.885695</td>\n      <td>7.483598</td>\n      <td>243.776546</td>\n      <td>25.333320</td>\n      <td>3.547083e+12</td>\n      <td>5.088813</td>\n    </tr>\n    <tr>\n      <th>min</th>\n      <td>1.000000</td>\n      <td>1996.000000</td>\n      <td>0.000000</td>\n      <td>-42.000000</td>\n      <td>0.000000e+00</td>\n      <td>1.000000</td>\n    </tr>\n    <tr>\n      <th>25%</th>\n      <td>215.000000</td>\n      <td>2001.000000</td>\n      <td>1936.000000</td>\n      <td>47.000000</td>\n      <td>0.000000e+00</td>\n      <td>1.400000</td>\n    </tr>\n    <tr>\n      <th>50%</th>\n      <td>430.000000</td>\n      <td>2014.000000</td>\n      <td>1963.000000</td>\n      <td>59.000000</td>\n      <td>0.000000e+00</td>\n      <td>2.000000</td>\n    </tr>\n    <tr>\n      <th>75%</th>\n      <td>988.000000</td>\n      <td>2014.000000</td>\n      <td>1985.000000</td>\n      <td>70.000000</td>\n      <td>7.250000e+11</td>\n      <td>3.500000</td>\n    </tr>\n    <tr>\n      <th>max</th>\n      <td>1565.000000</td>\n      <td>2014.000000</td>\n      <td>2012.000000</td>\n      <td>98.000000</td>\n      <td>1.060000e+13</td>\n      <td>76.000000</td>\n    </tr>\n  </tbody>\n</table>\n</div>"
     },
     "execution_count": 14,
     "metadata": {},
     "output_type": "execute_result"
    }
   ],
   "source": [
    "data.describe()"
   ]
  },
  {
   "cell_type": "code",
   "execution_count": 15,
   "id": "4d30e5fe",
   "metadata": {
    "execution": {
     "iopub.execute_input": "2021-11-05T18:36:15.894536Z",
     "iopub.status.busy": "2021-11-05T18:36:15.893846Z",
     "iopub.status.idle": "2021-11-05T18:36:15.899415Z",
     "shell.execute_reply": "2021-11-05T18:36:15.898822Z",
     "shell.execute_reply.started": "2021-11-05T18:34:52.979600Z"
    },
    "papermill": {
     "duration": 0.026824,
     "end_time": "2021-11-05T18:36:15.899573",
     "exception": false,
     "start_time": "2021-11-05T18:36:15.872749",
     "status": "completed"
    },
    "tags": []
   },
   "outputs": [
    {
     "name": "stdout",
     "output_type": "stream",
     "text": [
      "(2614, 22)\n"
     ]
    },
    {
     "data": {
      "text/plain": "name                         object\nrank                          int64\nyear                          int64\ncompany.founded               int64\ncompany.name                 object\ncompany.relationship         object\ncompany.sector               object\ncompany.type                 object\ndemographics.age              int64\ndemographics.gender          object\nlocation.citizenship         object\nlocation.country code        object\nlocation.gdp                float64\nlocation.region              object\nwealth.type                  object\nwealth.worth in billions    float64\nwealth.how.category          object\nwealth.how.from emerging       bool\nwealth.how.industry          object\nwealth.how.inherited         object\nwealth.how.was founder         bool\nwealth.how.was political       bool\ndtype: object"
     },
     "execution_count": 15,
     "metadata": {},
     "output_type": "execute_result"
    }
   ],
   "source": [
    "print(data.shape)\n",
    "data.dtypes"
   ]
  },
  {
   "cell_type": "code",
   "execution_count": 16,
   "id": "9e46f1d6",
   "metadata": {
    "execution": {
     "iopub.execute_input": "2021-11-05T18:36:15.951691Z",
     "iopub.status.busy": "2021-11-05T18:36:15.951025Z",
     "iopub.status.idle": "2021-11-05T18:36:15.954261Z",
     "shell.execute_reply": "2021-11-05T18:36:15.953749Z",
     "shell.execute_reply.started": "2021-11-05T18:34:52.989411Z"
    },
    "papermill": {
     "duration": 0.037422,
     "end_time": "2021-11-05T18:36:15.954434",
     "exception": false,
     "start_time": "2021-11-05T18:36:15.917012",
     "status": "completed"
    },
    "tags": []
   },
   "outputs": [
    {
     "ename": "KeyError",
     "evalue": "'NetWorth'",
     "output_type": "error",
     "traceback": [
      "\u001B[0;31m---------------------------------------------------------------------------\u001B[0m",
      "\u001B[0;31mKeyError\u001B[0m                                  Traceback (most recent call last)",
      "File \u001B[0;32m~/opt/anaconda3/envs/fbnames/lib/python3.10/site-packages/pandas/core/indexes/base.py:3805\u001B[0m, in \u001B[0;36mIndex.get_loc\u001B[0;34m(self, key)\u001B[0m\n\u001B[1;32m   3804\u001B[0m \u001B[38;5;28;01mtry\u001B[39;00m:\n\u001B[0;32m-> 3805\u001B[0m     \u001B[38;5;28;01mreturn\u001B[39;00m \u001B[38;5;28;43mself\u001B[39;49m\u001B[38;5;241;43m.\u001B[39;49m\u001B[43m_engine\u001B[49m\u001B[38;5;241;43m.\u001B[39;49m\u001B[43mget_loc\u001B[49m\u001B[43m(\u001B[49m\u001B[43mcasted_key\u001B[49m\u001B[43m)\u001B[49m\n\u001B[1;32m   3806\u001B[0m \u001B[38;5;28;01mexcept\u001B[39;00m \u001B[38;5;167;01mKeyError\u001B[39;00m \u001B[38;5;28;01mas\u001B[39;00m err:\n",
      "File \u001B[0;32mindex.pyx:167\u001B[0m, in \u001B[0;36mpandas._libs.index.IndexEngine.get_loc\u001B[0;34m()\u001B[0m\n",
      "File \u001B[0;32mindex.pyx:196\u001B[0m, in \u001B[0;36mpandas._libs.index.IndexEngine.get_loc\u001B[0;34m()\u001B[0m\n",
      "File \u001B[0;32mpandas/_libs/hashtable_class_helper.pxi:7081\u001B[0m, in \u001B[0;36mpandas._libs.hashtable.PyObjectHashTable.get_item\u001B[0;34m()\u001B[0m\n",
      "File \u001B[0;32mpandas/_libs/hashtable_class_helper.pxi:7089\u001B[0m, in \u001B[0;36mpandas._libs.hashtable.PyObjectHashTable.get_item\u001B[0;34m()\u001B[0m\n",
      "\u001B[0;31mKeyError\u001B[0m: 'NetWorth'",
      "\nThe above exception was the direct cause of the following exception:\n",
      "\u001B[0;31mKeyError\u001B[0m                                  Traceback (most recent call last)",
      "Cell \u001B[0;32mIn[16], line 1\u001B[0m\n\u001B[0;32m----> 1\u001B[0m data[\u001B[38;5;124m\"\u001B[39m\u001B[38;5;124mTotalNetWorth\u001B[39m\u001B[38;5;124m\"\u001B[39m] \u001B[38;5;241m=\u001B[39m [re\u001B[38;5;241m.\u001B[39msub(\u001B[38;5;124mr\u001B[39m\u001B[38;5;124m'\u001B[39m\u001B[38;5;124m[^0-9]\u001B[39m\u001B[38;5;124m'\u001B[39m, \u001B[38;5;124m'\u001B[39m\u001B[38;5;124m \u001B[39m\u001B[38;5;124m'\u001B[39m, s) \u001B[38;5;28;01mfor\u001B[39;00m s \u001B[38;5;129;01min\u001B[39;00m \u001B[43mdata\u001B[49m\u001B[43m[\u001B[49m\u001B[38;5;124;43m\"\u001B[39;49m\u001B[38;5;124;43mNetWorth\u001B[39;49m\u001B[38;5;124;43m\"\u001B[39;49m\u001B[43m]\u001B[49m]\n\u001B[1;32m      2\u001B[0m data[\u001B[38;5;124m\"\u001B[39m\u001B[38;5;124mTotalNetWorth\u001B[39m\u001B[38;5;124m\"\u001B[39m] \u001B[38;5;241m=\u001B[39m [a\u001B[38;5;241m.\u001B[39mreplace(\u001B[38;5;124m\"\u001B[39m\u001B[38;5;124m \u001B[39m\u001B[38;5;124m\"\u001B[39m,\u001B[38;5;124m\"\u001B[39m\u001B[38;5;124m.\u001B[39m\u001B[38;5;124m\"\u001B[39m)[\u001B[38;5;241m1\u001B[39m:\u001B[38;5;241m-\u001B[39m\u001B[38;5;241m2\u001B[39m] \u001B[38;5;28;01mfor\u001B[39;00m a \u001B[38;5;129;01min\u001B[39;00m data[\u001B[38;5;124m\"\u001B[39m\u001B[38;5;124mTotalNetWorth\u001B[39m\u001B[38;5;124m\"\u001B[39m]]\n\u001B[1;32m      3\u001B[0m data[\u001B[38;5;124m\"\u001B[39m\u001B[38;5;124mTotalNetWorth\u001B[39m\u001B[38;5;124m\"\u001B[39m] \u001B[38;5;241m=\u001B[39m data[\u001B[38;5;124m\"\u001B[39m\u001B[38;5;124mTotalNetWorth\u001B[39m\u001B[38;5;124m\"\u001B[39m]\u001B[38;5;241m.\u001B[39mastype(\u001B[38;5;124m\"\u001B[39m\u001B[38;5;124mfloat64\u001B[39m\u001B[38;5;124m\"\u001B[39m)\n",
      "File \u001B[0;32m~/opt/anaconda3/envs/fbnames/lib/python3.10/site-packages/pandas/core/frame.py:4102\u001B[0m, in \u001B[0;36mDataFrame.__getitem__\u001B[0;34m(self, key)\u001B[0m\n\u001B[1;32m   4100\u001B[0m \u001B[38;5;28;01mif\u001B[39;00m \u001B[38;5;28mself\u001B[39m\u001B[38;5;241m.\u001B[39mcolumns\u001B[38;5;241m.\u001B[39mnlevels \u001B[38;5;241m>\u001B[39m \u001B[38;5;241m1\u001B[39m:\n\u001B[1;32m   4101\u001B[0m     \u001B[38;5;28;01mreturn\u001B[39;00m \u001B[38;5;28mself\u001B[39m\u001B[38;5;241m.\u001B[39m_getitem_multilevel(key)\n\u001B[0;32m-> 4102\u001B[0m indexer \u001B[38;5;241m=\u001B[39m \u001B[38;5;28;43mself\u001B[39;49m\u001B[38;5;241;43m.\u001B[39;49m\u001B[43mcolumns\u001B[49m\u001B[38;5;241;43m.\u001B[39;49m\u001B[43mget_loc\u001B[49m\u001B[43m(\u001B[49m\u001B[43mkey\u001B[49m\u001B[43m)\u001B[49m\n\u001B[1;32m   4103\u001B[0m \u001B[38;5;28;01mif\u001B[39;00m is_integer(indexer):\n\u001B[1;32m   4104\u001B[0m     indexer \u001B[38;5;241m=\u001B[39m [indexer]\n",
      "File \u001B[0;32m~/opt/anaconda3/envs/fbnames/lib/python3.10/site-packages/pandas/core/indexes/base.py:3812\u001B[0m, in \u001B[0;36mIndex.get_loc\u001B[0;34m(self, key)\u001B[0m\n\u001B[1;32m   3807\u001B[0m     \u001B[38;5;28;01mif\u001B[39;00m \u001B[38;5;28misinstance\u001B[39m(casted_key, \u001B[38;5;28mslice\u001B[39m) \u001B[38;5;129;01mor\u001B[39;00m (\n\u001B[1;32m   3808\u001B[0m         \u001B[38;5;28misinstance\u001B[39m(casted_key, abc\u001B[38;5;241m.\u001B[39mIterable)\n\u001B[1;32m   3809\u001B[0m         \u001B[38;5;129;01mand\u001B[39;00m \u001B[38;5;28many\u001B[39m(\u001B[38;5;28misinstance\u001B[39m(x, \u001B[38;5;28mslice\u001B[39m) \u001B[38;5;28;01mfor\u001B[39;00m x \u001B[38;5;129;01min\u001B[39;00m casted_key)\n\u001B[1;32m   3810\u001B[0m     ):\n\u001B[1;32m   3811\u001B[0m         \u001B[38;5;28;01mraise\u001B[39;00m InvalidIndexError(key)\n\u001B[0;32m-> 3812\u001B[0m     \u001B[38;5;28;01mraise\u001B[39;00m \u001B[38;5;167;01mKeyError\u001B[39;00m(key) \u001B[38;5;28;01mfrom\u001B[39;00m \u001B[38;5;21;01merr\u001B[39;00m\n\u001B[1;32m   3813\u001B[0m \u001B[38;5;28;01mexcept\u001B[39;00m \u001B[38;5;167;01mTypeError\u001B[39;00m:\n\u001B[1;32m   3814\u001B[0m     \u001B[38;5;66;03m# If we have a listlike key, _check_indexing_error will raise\u001B[39;00m\n\u001B[1;32m   3815\u001B[0m     \u001B[38;5;66;03m#  InvalidIndexError. Otherwise we fall through and re-raise\u001B[39;00m\n\u001B[1;32m   3816\u001B[0m     \u001B[38;5;66;03m#  the TypeError.\u001B[39;00m\n\u001B[1;32m   3817\u001B[0m     \u001B[38;5;28mself\u001B[39m\u001B[38;5;241m.\u001B[39m_check_indexing_error(key)\n",
      "\u001B[0;31mKeyError\u001B[0m: 'NetWorth'"
     ]
    }
   ],
   "source": [
    "\n",
    "data[\"TotalNetWorth\"] = [re.sub(r'[^0-9]', ' ', s) for s in data[\"NetWorth\"]]\n",
    "data[\"TotalNetWorth\"] = [a.replace(\" \",\".\")[1:-2] for a in data[\"TotalNetWorth\"]]\n",
    "data[\"TotalNetWorth\"] = data[\"TotalNetWorth\"].astype(\"float64\")"
   ]
  },
  {
   "cell_type": "code",
   "execution_count": null,
   "id": "5dbb1fb2",
   "metadata": {
    "execution": {
     "iopub.execute_input": "2021-11-05T18:36:16.007766Z",
     "iopub.status.busy": "2021-11-05T18:36:16.007050Z",
     "iopub.status.idle": "2021-11-05T18:36:16.011569Z",
     "shell.execute_reply": "2021-11-05T18:36:16.010997Z",
     "shell.execute_reply.started": "2021-11-05T18:34:53.015452Z"
    },
    "papermill": {
     "duration": 0.040429,
     "end_time": "2021-11-05T18:36:16.011750",
     "exception": false,
     "start_time": "2021-11-05T18:36:15.971321",
     "status": "completed"
    },
    "tags": []
   },
   "outputs": [],
   "source": [
    "data"
   ]
  },
  {
   "cell_type": "code",
   "execution_count": null,
   "id": "b9d061c0",
   "metadata": {
    "execution": {
     "iopub.execute_input": "2021-11-05T18:36:16.058224Z",
     "iopub.status.busy": "2021-11-05T18:36:16.056981Z",
     "iopub.status.idle": "2021-11-05T18:36:16.625775Z",
     "shell.execute_reply": "2021-11-05T18:36:16.626238Z",
     "shell.execute_reply.started": "2021-11-05T18:34:53.037115Z"
    },
    "papermill": {
     "duration": 0.596182,
     "end_time": "2021-11-05T18:36:16.626417",
     "exception": false,
     "start_time": "2021-11-05T18:36:16.030235",
     "status": "completed"
    },
    "tags": []
   },
   "outputs": [],
   "source": [
    "source=data.groupby(\"Source\")[\"Name\"].count().sort_values(ascending=False)\n",
    "plt.figure(figsize=(16,8), dpi=80)\n",
    "sns.set_style(\"whitegrid\")\n",
    "chart = sns.countplot(data=data, y=\"Source\", order=source.index)\n",
    "for index, value in enumerate(source.values.tolist()):\n",
    "    plt.text(value, index, str(value))\n",
    "plt.title(\"Source with most number of billionaires\")\n",
    "plt.show()"
   ]
  },
  {
   "cell_type": "code",
   "execution_count": null,
   "id": "559ea194",
   "metadata": {
    "execution": {
     "iopub.execute_input": "2021-11-05T18:36:16.675793Z",
     "iopub.status.busy": "2021-11-05T18:36:16.670466Z",
     "iopub.status.idle": "2021-11-05T18:36:19.085807Z",
     "shell.execute_reply": "2021-11-05T18:36:19.085230Z",
     "shell.execute_reply.started": "2021-11-05T18:34:53.623223Z"
    },
    "papermill": {
     "duration": 2.441269,
     "end_time": "2021-11-05T18:36:19.085958",
     "exception": false,
     "start_time": "2021-11-05T18:36:16.644689",
     "status": "completed"
    },
    "tags": []
   },
   "outputs": [],
   "source": [
    "country = data.groupby(\"Country\").Country.count().sort_values(ascending=False)\n",
    "plt.figure(figsize=(20,10), dpi=80)\n",
    "sns.set_style(\"whitegrid\")\n",
    "chart = sns.countplot(data=data, x=\"Country\", order=country.index)\n",
    "for index, value in enumerate(country.values.tolist()):\n",
    "    plt.text(index, value, str(value), horizontalalignment=\"center\", rotation=45)\n",
    "plt.title(\"Country wise Billioaires\")\n",
    "plt.ylabel(\"Count of Billioaires\")\n",
    "plt.xticks(rotation=90)\n",
    "plt.show()"
   ]
  },
  {
   "cell_type": "code",
   "execution_count": null,
   "id": "65bed748",
   "metadata": {
    "execution": {
     "iopub.execute_input": "2021-11-05T18:36:19.136670Z",
     "iopub.status.busy": "2021-11-05T18:36:19.136049Z",
     "iopub.status.idle": "2021-11-05T18:36:20.680836Z",
     "shell.execute_reply": "2021-11-05T18:36:20.681336Z",
     "shell.execute_reply.started": "2021-11-05T18:34:56.179345Z"
    },
    "papermill": {
     "duration": 1.57432,
     "end_time": "2021-11-05T18:36:20.681508",
     "exception": false,
     "start_time": "2021-11-05T18:36:19.107188",
     "status": "completed"
    },
    "tags": []
   },
   "outputs": [],
   "source": [
    "x_var = \"TotalNetWorth\"\n",
    "groupby_var = \"Source\"\n",
    "df_agg = data.loc[:,[x_var, groupby_var]].groupby(groupby_var)\n",
    "vals = [data_[x_var].values.tolist() for i, data_ in df_agg]\n",
    "\n",
    "plt.figure(figsize=(20,8), dpi=80)\n",
    "colors = [plt.cm.Pastel1(i/float(len(vals)-1)) for i in range(len(vals))]\n",
    "n, bins, patches = plt.hist(vals, 30, stacked=True, density=False, color=colors[:len(vals)])\n",
    "\n",
    "plt.legend({group:col for group, col in zip(np.unique(data[groupby_var]).tolist(), colors[:len(vals)])})\n",
    "plt.title(\"Stacked Histogram of {} colored by {}\".format(x_var, groupby_var), fontsize=22)\n",
    "plt.xlabel(x_var)\n",
    "plt.ylabel(\"Frequency\")\n",
    "plt.xticks(ticks=bins[::3], labels=[round(b,1) for b in bins[::3]])\n",
    "plt.show()"
   ]
  },
  {
   "cell_type": "code",
   "execution_count": null,
   "id": "413c4d73",
   "metadata": {
    "execution": {
     "iopub.execute_input": "2021-11-05T18:36:20.736949Z",
     "iopub.status.busy": "2021-11-05T18:36:20.736184Z",
     "iopub.status.idle": "2021-11-05T18:36:25.886760Z",
     "shell.execute_reply": "2021-11-05T18:36:25.887292Z",
     "shell.execute_reply.started": "2021-11-05T18:34:57.892523Z"
    },
    "papermill": {
     "duration": 5.183346,
     "end_time": "2021-11-05T18:36:25.887476",
     "exception": false,
     "start_time": "2021-11-05T18:36:20.704130",
     "status": "completed"
    },
    "tags": []
   },
   "outputs": [],
   "source": [
    "x_var = \"Country\"\n",
    "groupby_var = \"Source\"\n",
    "df_agg = data.loc[:,[x_var, groupby_var]].groupby(groupby_var)\n",
    "vals = [data_[x_var].values.tolist() for i, data_ in df_agg]\n",
    "\n",
    "plt.figure(figsize=(20,8), dpi=80)\n",
    "colors = [plt.cm.Pastel1(i/float(len(vals)-1)) for i in range(len(vals))]\n",
    "n, bins, patches = plt.hist(vals, data[x_var].unique().__len__(), stacked=True, density=False, color=colors[:len(vals)])\n",
    "\n",
    "plt.legend({group:col for group, col in zip(np.unique(data[groupby_var]).tolist(), colors[:len(vals)])})\n",
    "plt.title(\"Stacked Histogram of {} colored by {}\".format(x_var, groupby_var), fontsize=22)\n",
    "plt.xlabel(x_var)\n",
    "plt.ylabel(\"Frequency\")\n",
    "plt.xticks(rotation='vertical', horizontalalignment='left')\n",
    "plt.show()"
   ]
  },
  {
   "cell_type": "code",
   "execution_count": null,
   "id": "f32e7ebc",
   "metadata": {
    "execution": {
     "iopub.execute_input": "2021-11-05T18:36:25.948687Z",
     "iopub.status.busy": "2021-11-05T18:36:25.947769Z",
     "iopub.status.idle": "2021-11-05T18:36:37.729003Z",
     "shell.execute_reply": "2021-11-05T18:36:37.729516Z",
     "shell.execute_reply.started": "2021-11-05T18:35:03.766182Z"
    },
    "papermill": {
     "duration": 11.816233,
     "end_time": "2021-11-05T18:36:37.729698",
     "exception": false,
     "start_time": "2021-11-05T18:36:25.913465",
     "status": "completed"
    },
    "tags": []
   },
   "outputs": [],
   "source": [
    "plt.figure(figsize=(20,8), dpi=80)\n",
    "sns.boxplot(data=data, x=\"Country\", y=\"TotalNetWorth\", hue=\"Source\", palette=\"Pastel1\")\n",
    "sns.stripplot(data=data, x=\"Country\", y=\"TotalNetWorth\", color=\"black\", size=3, jitter=1)\n",
    "\n",
    "plt.title(\"Box plot of billionaires's Country by Source\", fontsize=22)\n",
    "plt.legend(title=\"Source\")\n",
    "plt.xticks(rotation=\"vertical\")\n",
    "plt.show()"
   ]
  },
  {
   "cell_type": "code",
   "execution_count": null,
   "id": "da3ed9b0",
   "metadata": {
    "execution": {
     "iopub.execute_input": "2021-11-05T18:36:37.791461Z",
     "iopub.status.busy": "2021-11-05T18:36:37.790491Z",
     "iopub.status.idle": "2021-11-05T18:36:38.145773Z",
     "shell.execute_reply": "2021-11-05T18:36:38.144826Z",
     "shell.execute_reply.started": "2021-11-05T18:35:17.015920Z"
    },
    "papermill": {
     "duration": 0.386904,
     "end_time": "2021-11-05T18:36:38.145972",
     "exception": false,
     "start_time": "2021-11-05T18:36:37.759068",
     "status": "completed"
    },
    "tags": []
   },
   "outputs": [],
   "source": [
    "df = data.groupby(\"Source\")[\"TotalNetWorth\"].sum().reset_index(name='counts')\n",
    "\n",
    "fig, ax = plt.subplots(figsize=(20,10), subplot_kw=dict(aspect=\"equal\"), dpi=80)\n",
    "\n",
    "counts = df[\"counts\"]\n",
    "categories = df[\"Source\"]\n",
    "\n",
    "def text(pct, allvals):\n",
    "    absolute = int(pct/100. * np.sum(allvals))\n",
    "    return \"{:.1f}% ({:d})\".format(pct, absolute)\n",
    "\n",
    "wedges, texts, autotexts = ax.pie(counts,\n",
    "                                  autopct=lambda pct: text(pct, counts),\n",
    "                                  textprops=dict(color=\"black\"),\n",
    "                                  startangle=140\n",
    "                                 )\n",
    "\n",
    "ax.legend(wedges, categories, title=\"Country\", loc=\"center left\", bbox_to_anchor=(1,0,0.5,1))\n",
    "ax.set_title(\"Billionaries money as per their Industry: Pie Chart\")\n",
    "plt.show()"
   ]
  },
  {
   "cell_type": "code",
   "execution_count": null,
   "id": "1b729edf",
   "metadata": {
    "execution": {
     "iopub.execute_input": "2021-11-05T18:36:38.218842Z",
     "iopub.status.busy": "2021-11-05T18:36:38.218220Z",
     "iopub.status.idle": "2021-11-05T18:36:38.981956Z",
     "shell.execute_reply": "2021-11-05T18:36:38.982452Z",
     "shell.execute_reply.started": "2021-11-05T18:35:17.403175Z"
    },
    "papermill": {
     "duration": 0.800456,
     "end_time": "2021-11-05T18:36:38.982618",
     "exception": false,
     "start_time": "2021-11-05T18:36:38.182162",
     "status": "completed"
    },
    "tags": []
   },
   "outputs": [],
   "source": [
    "df = data.groupby(\"Country\")[\"TotalNetWorth\"].sum().reset_index(name=\"sum_by_source\")\n",
    "labels = df.apply(lambda x : str(x[0]) + \"\\n(\" + str(x[1]) + \")\", axis=1)\n",
    "sizes = df['sum_by_source'].values.tolist()\n",
    "colors = [plt.cm.Pastel1(i/float(len(labels))) for i in range(len(labels))]\n",
    "\n",
    "plt.figure(figsize=(25,12), dpi=80)\n",
    "squarify.plot(sizes=sizes, label=labels, color=colors, alpha=.8, text_kwargs={'fontsize':10}, pad=0.01)\n",
    "\n",
    "\n",
    "plt.title(\"Treemap of Country with Billionaires wealth\")\n",
    "plt.axis('off')\n",
    "plt.show()"
   ]
  },
  {
   "cell_type": "code",
   "execution_count": null,
   "id": "c7fc58ee",
   "metadata": {
    "execution": {
     "iopub.execute_input": "2021-11-05T18:36:39.061690Z",
     "iopub.status.busy": "2021-11-05T18:36:39.061034Z",
     "iopub.status.idle": "2021-11-05T18:36:46.808674Z",
     "shell.execute_reply": "2021-11-05T18:36:46.809169Z",
     "shell.execute_reply.started": "2021-11-05T18:35:18.273651Z"
    },
    "papermill": {
     "duration": 7.789368,
     "end_time": "2021-11-05T18:36:46.809335",
     "exception": false,
     "start_time": "2021-11-05T18:36:39.019967",
     "status": "completed"
    },
    "tags": []
   },
   "outputs": [],
   "source": [
    "plt.figure(figsize=(20, 10), dpi=80)\n",
    "sns.swarmplot(x=data[\"Source\"], y=data[\"TotalNetWorth\"])\n",
    "\n",
    "plt.title(\"Swarm plot for Total Networth and Source\")\n",
    "plt.xticks(rotation=\"vertical\")\n",
    "plt.show()"
   ]
  },
  {
   "cell_type": "code",
   "execution_count": null,
   "id": "1af01aa6",
   "metadata": {
    "execution": {
     "iopub.execute_input": "2021-11-05T18:36:46.899947Z",
     "iopub.status.busy": "2021-11-05T18:36:46.899279Z",
     "iopub.status.idle": "2021-11-05T18:37:01.612564Z",
     "shell.execute_reply": "2021-11-05T18:37:01.613119Z",
     "shell.execute_reply.started": "2021-11-05T18:35:26.803683Z"
    },
    "papermill": {
     "duration": 14.763403,
     "end_time": "2021-11-05T18:37:01.613302",
     "exception": false,
     "start_time": "2021-11-05T18:36:46.849899",
     "status": "completed"
    },
    "tags": []
   },
   "outputs": [],
   "source": [
    "plt.figure(figsize=(30, 10), dpi=80)\n",
    "length = data[\"Country\"].nunique()\n",
    "\n",
    "sns.swarmplot(x=data[\"Country\"], y=data[\"TotalNetWorth\"])\n",
    "\n",
    "plt.title(\"Swarm plot for Total Networth and Country\")\n",
    "plt.xticks(rotation=\"vertical\")\n",
    "plt.show()"
   ]
  },
  {
   "cell_type": "code",
   "execution_count": null,
   "id": "f505886e",
   "metadata": {
    "execution": {
     "iopub.execute_input": "2021-11-05T18:37:01.706196Z",
     "iopub.status.busy": "2021-11-05T18:37:01.705258Z",
     "iopub.status.idle": "2021-11-05T18:37:02.580078Z",
     "shell.execute_reply": "2021-11-05T18:37:02.580581Z",
     "shell.execute_reply.started": "2021-11-05T18:35:42.578302Z"
    },
    "papermill": {
     "duration": 0.923437,
     "end_time": "2021-11-05T18:37:02.580776",
     "exception": false,
     "start_time": "2021-11-05T18:37:01.657339",
     "status": "completed"
    },
    "tags": []
   },
   "outputs": [],
   "source": [
    "plt.figure(figsize=(20, 8), dpi=80)\n",
    "colors = [k for k,v in matplotlib.colors.cnames.items()][30:46]\n",
    "\n",
    "industries = data.Source.unique().tolist()\n",
    "for source, color in zip(industries, colors):\n",
    "    sns.kdeplot(data.loc[data.Source == source, \"TotalNetWorth\"], label=source, shade=True, alpha=0.7, color=color)\n",
    "\n",
    "plt.xlabel(\"wealth(in billions)\")\n",
    "plt.title('Distribution of wealth among Industries', fontsize=22)\n",
    "plt.legend(labels=source)\n",
    "plt.show()"
   ]
  },
  {
   "cell_type": "code",
   "execution_count": null,
   "id": "c362086a",
   "metadata": {
    "papermill": {
     "duration": 0.04551,
     "end_time": "2021-11-05T18:37:02.672698",
     "exception": false,
     "start_time": "2021-11-05T18:37:02.627188",
     "status": "completed"
    },
    "tags": []
   },
   "outputs": [],
   "source": []
  }
 ],
 "metadata": {
  "kernelspec": {
   "display_name": "Python 3",
   "language": "python",
   "name": "python3"
  },
  "language_info": {
   "codemirror_mode": {
    "name": "ipython",
    "version": 3
   },
   "file_extension": ".py",
   "mimetype": "text/x-python",
   "name": "python",
   "nbconvert_exporter": "python",
   "pygments_lexer": "ipython3",
   "version": "3.7.10"
  },
  "papermill": {
   "default_parameters": {},
   "duration": 57.048451,
   "end_time": "2021-11-05T18:37:03.428969",
   "environment_variables": {},
   "exception": null,
   "input_path": "__notebook__.ipynb",
   "output_path": "__notebook__.ipynb",
   "parameters": {},
   "start_time": "2021-11-05T18:36:06.380518",
   "version": "2.3.3"
  }
 },
 "nbformat": 4,
 "nbformat_minor": 5
}
